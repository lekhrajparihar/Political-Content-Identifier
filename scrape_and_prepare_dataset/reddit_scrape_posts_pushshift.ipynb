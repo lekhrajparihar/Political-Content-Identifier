{
 "nbformat": 4,
 "nbformat_minor": 0,
 "metadata": {
  "colab": {
   "name": "reddit_scrape_posts_pushshift.ipynb",
   "provenance": [],
   "collapsed_sections": [],
   "mount_file_id": "1czQWoYNb7y91sWrEJbCtFLZ9qhOjaREH",
   "authorship_tag": "ABX9TyPchisVDFuY9Xbg/bhvh9B3"
  },
  "kernelspec": {
   "display_name": "Python 3",
   "name": "python3"
  }
 },
 "cells": [
  {
   "cell_type": "code",
   "metadata": {
    "id": "V3Fpgua7E8Of"
   },
   "source": [
    "!pip3 install psaw\n",
    "!pip3 install praw\n",
    "!pip3 install sqlalchemy\n",
    "!pip3 install pandas\n",
    "!pip3 install import-ipynb"
   ],
   "execution_count": null,
   "outputs": []
  },
  {
   "cell_type": "code",
   "metadata": {
    "id": "jFxPDrXgOr1O"
   },
   "source": [
    "from google.colab import drive\n",
    "drive.mount('/content/drive')"
   ],
   "execution_count": null,
   "outputs": []
  },
  {
   "cell_type": "code",
   "metadata": {
    "id": "oXVmXXXGddAy"
   },
   "source": [
    "pd.set_option('display.max_rows', 500)\n",
    "pd.set_option('display.max_columns', 500)\n",
    "pd.set_option('display.width', 1000)"
   ],
   "execution_count": null,
   "outputs": []
  },
  {
   "cell_type": "code",
   "metadata": {
    "id": "RclgC5aPPi_1"
   },
   "source": [
    "import re\n",
    "import string\n",
    "import praw\n",
    "import sys\n",
    "import html\n",
    "import pandas as pd\n",
    "import logging as lg\n",
    "from datetime import datetime as dt, timedelta\n",
    "from psaw import *\n",
    "from random import *\n",
    "from sqlalchemy.ext.declarative import declarative_base\n",
    "from sqlalchemy.exc import InvalidRequestError, IntegrityError\n",
    "from sqlalchemy import Column, Integer, String, create_engine, ForeignKey, UniqueConstraint, Index\n",
    "from sqlalchemy.orm import sessionmaker\n",
    "from sqlalchemy import func, desc"
   ],
   "execution_count": null,
   "outputs": []
  },
  {
   "cell_type": "code",
   "metadata": {
    "id": "HH1Njeo0mnVR"
   },
   "source": [
    "lg.basicConfig(encoding='utf-8', level=logging.INFO)"
   ],
   "execution_count": null,
   "outputs": []
  },
  {
   "cell_type": "code",
   "metadata": {
    "id": "Rpk3ca1aN_gw"
   },
   "source": [
    "punc = '''!()-[]|{};:\\<>/@#$%^&*_~'''\n",
    "\n",
    "relp = \" \"*len(punc)\n",
    "def process(s):\n",
    "  result = s.encode(\"ascii\", \"ignore\").decode()\n",
    "  result = html.unescape(result)\n",
    "  result = re.sub(r\"http\\S+\", '', result, flags=re.MULTILINE)\n",
    "  result = result.translate(str.maketrans(punc,relp))\n",
    "  result = re.sub(' +', ' ',result)\n",
    "  return result;"
   ],
   "execution_count": null,
   "outputs": []
  },
  {
   "cell_type": "code",
   "metadata": {
    "id": "X_J6AkkuQDHF"
   },
   "source": [
    "lg.debug(process(\"àa&string__withé|fuünny@charactersß. 32232*(&(*&^&*)) [ eww https://ww.fooodlc.di efew]\"))"
   ],
   "execution_count": null,
   "outputs": []
  },
  {
   "cell_type": "code",
   "metadata": {
    "id": "y3vCcUGRrI1h"
   },
   "source": [
    "#Models\n",
    "Base = declarative_base()\n",
    "class Submission(Base):\n",
    "      __tablename__ = 'submissions'\n",
    "      id = Column(Integer, primary_key=True)\n",
    "      reddit_id = Column(String,nullable=False,index=True)\n",
    "      subreddit = Column(String)\n",
    "      title = Column(String)\n",
    "      body = Column(String)\n",
    "      link = Column(String)\n",
    "      score = Column(Integer)\n",
    "      created_utc = Column(Integer)\n",
    "      __table_args__ = (UniqueConstraint('reddit_id'),)\n",
    "\n",
    "      def __repr__(self):\n",
    "          return f\"{self.title[:100]} {self.body[:100]}\\nscore:{self.score}\"\n",
    "class Comment(Base):\n",
    "      __tablename__ = 'comments'\n",
    "      id = Column(Integer, primary_key=True)\n",
    "      reddit_id = Column(String,nullable=False,index=True)\n",
    "      submission_id = Column(Integer, ForeignKey('submissions.id'),nullable=False,index=True)\n",
    "      subreddit = Column(String)\n",
    "      body = Column(String)\n",
    "      score = Column(Integer)\n",
    "      __table_args__ = (UniqueConstraint('reddit_id'),)\n",
    "\n",
    "      def __repr__(self):\n",
    "          return f'{self.body}'\n",
    "\n",
    "\n",
    "def get_session(db_name):\n",
    "  engine = create_engine(f'sqlite:////content/drive/MyDrive/datasets/reddit/{db_name}.db', echo=False)\n",
    "  Session = sessionmaker(bind=engine)\n",
    "  session = Session()\n",
    "  Base.metadata.create_all(engine)\n",
    "  return session"
   ],
   "execution_count": null,
   "outputs": []
  },
  {
   "cell_type": "code",
   "metadata": {
    "id": "3nA3a5CtIq2h"
   },
   "source": [
    "reddit = praw.reddit.Reddit(client_id=\"\", client_secret=\"\",password=\"\",user_agent=\"\",username=\"\")\n",
    "api = PushshiftAPI(reddit)\n",
    "session = get_session(\"datasets\")"
   ],
   "execution_count": null,
   "outputs": []
  },
  {
   "cell_type": "code",
   "metadata": {
    "id": "JyOQEooMBa0-"
   },
   "source": [
    "#scraping only posts from pushshift api. Comments from bigquery\n",
    "for sub in subs_arr:\n",
    "  fetch_and_add_submissions(sub = sub,num_posts=100,interval = 10)\n",
    "  lg.info(f\"Done: {sub}\")\n",
    "                          "
   ],
   "execution_count": null,
   "outputs": []
  },
  {
   "cell_type": "code",
   "metadata": {
    "id": "e6WNRD_cgaID"
   },
   "source": [
    "#Subs to scrape data from.\n",
    "subs_arr = [\"politics\",\"PoliticalHumor\",\"PoliticalCompassMemes\",\"Conservative\",\n",
    "            \"TheRightCantMeme\",\"neoliberal\",\"democrats\",\"PoliticalDiscussion\",\n",
    "            \"republicans\",\"AskReddit\",\"Showerthoughts\",\n",
    "            \"unpopularopinion\",\"explainlikeimfive\",\"askscience\",\"Economics\",\n",
    "            \"Libertarian\"\"AskEconomics\",\"badeconomics\",\"ProgrammerHumor\",\n",
    "            \"interestingasfuck\",\"AskWomen\",\"OldSchoolCool\",\"aww\",\"funny\"]\n",
    "\n",
    "\n",
    "#Scrape posts using pushshift api.\n",
    "def fetch_and_add_submissions(sub,num_posts,\n",
    "                              sort=\"desc\",sort_type=\"num_comments\",\n",
    "                              save_as = \"datasets\",interval = 10, start_ts = dt.now().timestamp(),\n",
    "                              end_ts =  dt(2011, 1, 1).timestamp(),\n",
    "                              before = 0)):\n",
    "  end = int(start_ts-end_ts)/(24*60*60)\n",
    "  while(before<end):\n",
    "    error_count = 0\n",
    "    after = before + interval\n",
    "    lg.info(f\"after: {after},before: {before}\")\n",
    "    res = list(api.search_submissions(subreddit=sub,limit=500,after=f\"{after}d\",before=f\"{before}d\",sort_type=sort_type,sort=sort))\n",
    "    res = list(filter(lambda x:x.score>10,res))\n",
    "    time = dt.now().timestamp()\n",
    "\n",
    "    for i in sorted(res,key=lambda x:x.score,reverse=True)[:num_posts]:\n",
    "      subreddit = i.subreddit.display_name\n",
    "      link = \"\" if f\"https://www.reddit.com/r/{subreddit}\" in i.url else i.url\n",
    "      \n",
    "      post = Submission(title=process(i.title), body=process(i.selftext),reddit_id=i.id,\n",
    "                        score=i.score,link=link,subreddit=subreddit,created_utc=int(i.created_utc))\n",
    "      \n",
    "      if session.query(Submission.reddit_id).filter(Submission.reddit_id==post.reddit_id).count() == 0:\n",
    "        session.add(post)\n",
    "      else:\n",
    "        error_count += 1\n",
    "    try:\n",
    "        session.commit()\n",
    "    except:\n",
    "        lg.error(\"Error Commiting\")\n",
    "\n",
    "    lg.info(f\"Errors: {error_count}/{min(num_posts,len(res))}\")\n",
    "    before += interval\n",
    "\n",
    "  lg.info(f\"Done: {subs}\")"
   ],
   "execution_count": null,
   "outputs": []
  },
  {
   "cell_type": "code",
   "metadata": {
    "id": "91BtgpaTOTec"
   },
   "source": [
    "#scrape posts using ids\n",
    "def fetch_and_add_submissions_by_id(ids):\n",
    "  to_add = []\n",
    "  for i in ids:\n",
    "    if session.query(Submission).filter(Submission.reddit_id==i).count()==0:\n",
    "      to_add.append(i)\n",
    "  if(len(to_add)==0):\n",
    "    return\n",
    "  error_count = 0\n",
    "  \n",
    "  res = list(api.search_submissions(ids=\",\".join(to_add)))\n",
    "\n",
    "  for i in res:\n",
    "    subreddit = i.subreddit.display_name\n",
    "    link = \"\" if f\"https://www.reddit.com/r/{subreddit}\" in i.url else i.url\n",
    "    post = Submission(title=process(i.title), body=process(i.selftext),reddit_id=i.id,\n",
    "                        score=i.score,link=link,subreddit=subreddit,created_utc=int(i.created_utc))\n",
    "      \n",
    "    if session.query(Submission.reddit_id).filter(Submission.reddit_id==post.reddit_id).count() == 0:\n",
    "      session.add(post)\n",
    "    else:\n",
    "      error_count += 1\n",
    "\n",
    "  try:\n",
    "      session.commit()\n",
    "  except:\n",
    "      error_count+=1\n",
    "  lg.info(f\"Errors: {error_count}/{len(res)}\")\n",
    "\n"
   ],
   "execution_count": null,
   "outputs": []
  },
  {
   "cell_type": "code",
   "metadata": {
    "id": "SDKOhqyuACrc"
   },
   "source": [
    "#scrape comments using pushshift\n",
    "def fetch_and_add_comments(subs,\n",
    "                              sort=\"desc\",sort_type=\"score\",\n",
    "                              save_as = \"datasets\",interval = 2, start_ts = dt.now().timestamp(),\n",
    "                              end_ts =  dt(2011, 1, 1).timestamp(),\n",
    "                              before = 0):\n",
    "  end = int(start_ts-end_ts)/(60*60)\n",
    "  while(before<end):\n",
    "    error_count = 0\n",
    "    after = before + interval\n",
    "    lg.info(f\"after: {after},before: {before}\")\n",
    "    \n",
    "    res = list(api.search_comments(subreddit=subs,after=f\"{after}h\",limit=500,before=f\"{before}h\",sort_type=sort_type,sort=sort))\n",
    "    res = list(filter(lambda x: x.score>10,res))    \n",
    "\n",
    "    for i in res:\n",
    "      subreddit = i.subreddit.display_name\n",
    "      comment = Comment(body=process(i.body),reddit_id=i.id,\n",
    "                        score=i.score,subreddit=subreddit,submission_id=i.link_id[3:])\n",
    "      \n",
    "      if session.query(Submission).filter(Submission.reddit_id==comment.submission_id).count()!=0 and session.query(Comment.reddit_id).filter(Comment.reddit_id==comment.reddit_id).count() == 0:\n",
    "        session.add(comment)\n",
    "      else:\n",
    "        error_count += 1\n",
    "      \n",
    "    try:\n",
    "        session.commit()\n",
    "    except:\n",
    "        lg.error(\"Error Commiting\")\n",
    "\n",
    "    lg.info(f\"Errors: {error_count}/{len(res)}\")\n",
    "    before += interval\n",
    "\n",
    "  lg.info(f\"Done {subs}\")"
   ],
   "execution_count": null,
   "outputs": []
  }
 ]
}