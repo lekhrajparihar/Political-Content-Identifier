{
  "nbformat": 4,
  "nbformat_minor": 0,
  "metadata": {
    "colab": {
      "name": "reddit_classification.ipynb",
      "provenance": [],
      "collapsed_sections": []
    },
    "kernelspec": {
      "display_name": "Python 3",
      "name": "python3"
    }
  },
  "cells": [
    {
      "cell_type": "code",
      "metadata": {
        "id": "VEw9cLLQbbhs"
      },
      "source": [
        "!unzip /content/drive/MyDrive/datasets/glove.zip -d /content/"
      ],
      "execution_count": null,
      "outputs": []
    },
    {
      "cell_type": "code",
      "metadata": {
        "id": "boMMrdEZP0s6",
        "colab": {
          "base_uri": "https://localhost:8080/"
        },
        "outputId": "34a3fe1c-62a7-49fb-913d-137655f624ef"
      },
      "source": [
        "!apt install libomp-dev\n",
        "!pip install faiss\n",
        "!pip install faiss-gpu\n",
        "import faiss  "
      ],
      "execution_count": 26,
      "outputs": [
        {
          "output_type": "stream",
          "text": [
            "Reading package lists... Done\n",
            "Building dependency tree       \n",
            "Reading state information... Done\n",
            "The following additional packages will be installed:\n",
            "  libomp5\n",
            "Suggested packages:\n",
            "  libomp-doc\n",
            "The following NEW packages will be installed:\n",
            "  libomp-dev libomp5\n",
            "0 upgraded, 2 newly installed, 0 to remove and 39 not upgraded.\n",
            "Need to get 239 kB of archives.\n",
            "After this operation, 804 kB of additional disk space will be used.\n",
            "Get:1 http://archive.ubuntu.com/ubuntu bionic/universe amd64 libomp5 amd64 5.0.1-1 [234 kB]\n",
            "Get:2 http://archive.ubuntu.com/ubuntu bionic/universe amd64 libomp-dev amd64 5.0.1-1 [5,088 B]\n",
            "Fetched 239 kB in 1s (216 kB/s)\n",
            "Selecting previously unselected package libomp5:amd64.\n",
            "(Reading database ... 160772 files and directories currently installed.)\n",
            "Preparing to unpack .../libomp5_5.0.1-1_amd64.deb ...\n",
            "Unpacking libomp5:amd64 (5.0.1-1) ...\n",
            "Selecting previously unselected package libomp-dev.\n",
            "Preparing to unpack .../libomp-dev_5.0.1-1_amd64.deb ...\n",
            "Unpacking libomp-dev (5.0.1-1) ...\n",
            "Setting up libomp5:amd64 (5.0.1-1) ...\n",
            "Setting up libomp-dev (5.0.1-1) ...\n",
            "Processing triggers for libc-bin (2.27-3ubuntu1.2) ...\n",
            "/sbin/ldconfig.real: /usr/local/lib/python3.7/dist-packages/ideep4py/lib/libmkldnn.so.0 is not a symbolic link\n",
            "\n",
            "Collecting faiss\n",
            "\u001b[?25l  Downloading https://files.pythonhosted.org/packages/ef/2e/dc5697e9ff6f313dcaf3afe5ca39d7d8334114cbabaed069d0026bbc3c61/faiss-1.5.3-cp37-cp37m-manylinux1_x86_64.whl (4.7MB)\n",
            "\u001b[K     |████████████████████████████████| 4.7MB 6.8MB/s \n",
            "\u001b[?25hRequirement already satisfied: numpy in /usr/local/lib/python3.7/dist-packages (from faiss) (1.19.5)\n",
            "Installing collected packages: faiss\n",
            "Successfully installed faiss-1.5.3\n",
            "Collecting faiss-gpu\n",
            "\u001b[?25l  Downloading https://files.pythonhosted.org/packages/e6/20/cce8f99dde167453ea108f35cd4bfffcc318a314aaf1bdfb167f6be2c989/faiss_gpu-1.7.1.post2-cp37-cp37m-manylinux_2_17_x86_64.manylinux2014_x86_64.whl (89.7MB)\n",
            "\u001b[K     |████████████████████████████████| 89.7MB 104kB/s \n",
            "\u001b[?25hInstalling collected packages: faiss-gpu\n",
            "Successfully installed faiss-gpu-1.7.1.post2\n"
          ],
          "name": "stdout"
        }
      ]
    },
    {
      "cell_type": "code",
      "metadata": {
        "id": "3wi8Yhi55sh8"
      },
      "source": [
        "!wget http://nlp.stanford.edu/data/glove.42B.300d.zip"
      ],
      "execution_count": null,
      "outputs": []
    },
    {
      "cell_type": "code",
      "metadata": {
        "id": "zeb3Ip__Ydrg",
        "colab": {
          "base_uri": "https://localhost:8080/"
        },
        "outputId": "347d829f-5644-4114-82ee-192d6375b2ef"
      },
      "source": [
        "!pip install --upgrade xgboost\n",
        "from xgboost import XGBClassifier"
      ],
      "execution_count": 1,
      "outputs": [
        {
          "output_type": "stream",
          "text": [
            "Collecting xgboost\n",
            "\u001b[?25l  Downloading https://files.pythonhosted.org/packages/bb/35/169eec194bf1f9ef52ed670f5032ef2abaf6ed285cfadcb4b6026b800fc9/xgboost-1.4.2-py3-none-manylinux2010_x86_64.whl (166.7MB)\n",
            "\u001b[K     |████████████████████████████████| 166.7MB 67kB/s \n",
            "\u001b[?25hRequirement already satisfied, skipping upgrade: scipy in /usr/local/lib/python3.7/dist-packages (from xgboost) (1.4.1)\n",
            "Requirement already satisfied, skipping upgrade: numpy in /usr/local/lib/python3.7/dist-packages (from xgboost) (1.19.5)\n",
            "Installing collected packages: xgboost\n",
            "  Found existing installation: xgboost 0.90\n",
            "    Uninstalling xgboost-0.90:\n",
            "      Successfully uninstalled xgboost-0.90\n",
            "Successfully installed xgboost-1.4.2\n"
          ],
          "name": "stdout"
        }
      ]
    },
    {
      "cell_type": "code",
      "metadata": {
        "id": "36ngYYYWPSmy"
      },
      "source": [
        "import pandas as pd\n",
        "import numpy as np\n",
        "import re\n",
        "import sys\n",
        "import json\n",
        "import csv\n",
        "import gc\n",
        "from collections import Counter\n",
        "import glob\n",
        "import os.path\n",
        "import time\n",
        "import nltk\n",
        "from random import *\n",
        "import ast\n",
        "import os\n",
        "import joblib\n",
        "import matplotlib.pyplot as plt\n",
        "import math\n",
        "from google.colab import drive\n",
        "import requests_oauthlib\n",
        "from scipy.spatial import distance\n",
        "from tensorflow.keras.initializers import Constant\n",
        "from sklearn.model_selection import GridSearchCV\n",
        "from sklearn.ensemble import RandomForestClassifier\n",
        "from sklearn.neighbors import NearestNeighbors, KNeighborsClassifier\n",
        "from sklearn.pipeline import make_pipeline\n",
        "from sklearn.preprocessing import StandardScaler,MinMaxScaler\n",
        "from sklearn.svm import SVC\n",
        "from sklearn import metrics\n",
        "from sklearn.linear_model import LogisticRegression,LinearRegression\n",
        "from sklearn.model_selection import train_test_split\n",
        "from tensorflow.keras.layers import *\n",
        "from tensorflow.keras.models import Sequential\n",
        "from tensorflow.keras import datasets, layers, models\n",
        "import tensorflow as tf\n",
        "import seaborn as sns"
      ],
      "execution_count": 4,
      "outputs": []
    },
    {
      "cell_type": "code",
      "metadata": {
        "id": "cnOxsO3pQG0x",
        "colab": {
          "base_uri": "https://localhost:8080/"
        },
        "outputId": "2396388d-0f1b-4117-e9cb-1874852caed3"
      },
      "source": [
        "from google.colab import drive\n",
        "drive.mount('/content/drive')\n",
        "#drive.flush_and_unmount()\n",
        "pd.set_option('display.max_rows', 5000)\n",
        "pd.set_option('display.max_columns', 5000)\n",
        "pd.set_option('display.width', 1000)\n",
        "pd.set_option('display.max_colwidth', -1)  # or 199"
      ],
      "execution_count": 5,
      "outputs": [
        {
          "output_type": "stream",
          "text": [
            "Drive already mounted at /content/drive; to attempt to forcibly remount, call drive.mount(\"/content/drive\", force_remount=True).\n"
          ],
          "name": "stdout"
        },
        {
          "output_type": "stream",
          "text": [
            "/usr/local/lib/python3.7/dist-packages/ipykernel_launcher.py:7: FutureWarning: Passing a negative integer is deprecated in version 1.0 and will not be supported in future version. Instead, use None to not limit the column width.\n",
            "  import sys\n"
          ],
          "name": "stderr"
        }
      ]
    },
    {
      "cell_type": "code",
      "metadata": {
        "id": "GezGGOE6hs1l"
      },
      "source": [
        "# Load word frequency dataset and create a 'rel_freq' variable indicating 'politicalness' of a word.\n",
        "df = pd.read_csv(\"/content/drive/MyDrive/datasets/reddit/extracted_keywords_freq.csv\")\n",
        "df[\"rel_freq\"] = (df[\"pol_freq\"]*df[\"total_freq\"].sum())/(df[\"total_freq\"]*df[\"pol_freq\"].sum())-1"
      ],
      "execution_count": 6,
      "outputs": []
    },
    {
      "cell_type": "code",
      "metadata": {
        "colab": {
          "base_uri": "https://localhost:8080/",
          "height": 284
        },
        "id": "W1_eonR2AOtv",
        "outputId": "3c5e0935-327a-477c-e512-7fe20fa1b84a"
      },
      "source": [
        "df[\"rel_freq\"].plot.kde()"
      ],
      "execution_count": 7,
      "outputs": [
        {
          "output_type": "execute_result",
          "data": {
            "text/plain": [
              "<matplotlib.axes._subplots.AxesSubplot at 0x7fc026b6d350>"
            ]
          },
          "metadata": {
            "tags": []
          },
          "execution_count": 7
        },
        {
          "output_type": "display_data",
          "data": {
            "image/png": "[encoded data removed]",
            "text/plain": [
              "<Figure size 432x288 with 1 Axes>"
            ]
          },
          "metadata": {
            "tags": [],
            "needs_background": "light"
          }
        }
      ]
    },
    {
      "cell_type": "code",
      "metadata": {
        "id": "KlXueQLUFYKz",
        "colab": {
          "base_uri": "https://localhost:8080/",
          "height": 1000
        },
        "outputId": "cc13264f-19c3-4dad-d814-cf5e61112b53"
      },
      "source": [
        "df.head(n=50)"
      ],
      "execution_count": 8,
      "outputs": [
        {
          "output_type": "execute_result",
          "data": {
            "text/html": [
              "<div>\n",
              "<style scoped>\n",
              "    .dataframe tbody tr th:only-of-type {\n",
              "        vertical-align: middle;\n",
              "    }\n",
              "\n",
              "    .dataframe tbody tr th {\n",
              "        vertical-align: top;\n",
              "    }\n",
              "\n",
              "    .dataframe thead th {\n",
              "        text-align: right;\n",
              "    }\n",
              "</style>\n",
              "<table border=\"1\" class=\"dataframe\">\n",
              "  <thead>\n",
              "    <tr style=\"text-align: right;\">\n",
              "      <th></th>\n",
              "      <th>word</th>\n",
              "      <th>non_pol_freq</th>\n",
              "      <th>pol_freq</th>\n",
              "      <th>total_freq</th>\n",
              "      <th>rel_freq</th>\n",
              "    </tr>\n",
              "  </thead>\n",
              "  <tbody>\n",
              "    <tr>\n",
              "      <th>0</th>\n",
              "      <td>people</td>\n",
              "      <td>47177.0</td>\n",
              "      <td>72710.0</td>\n",
              "      <td>119887.0</td>\n",
              "      <td>0.203846</td>\n",
              "    </tr>\n",
              "    <tr>\n",
              "      <th>1</th>\n",
              "      <td>like</td>\n",
              "      <td>61796.0</td>\n",
              "      <td>49373.0</td>\n",
              "      <td>111169.0</td>\n",
              "      <td>-0.118434</td>\n",
              "    </tr>\n",
              "    <tr>\n",
              "      <th>2</th>\n",
              "      <td>trump</td>\n",
              "      <td>976.0</td>\n",
              "      <td>47684.0</td>\n",
              "      <td>48660.0</td>\n",
              "      <td>0.945134</td>\n",
              "    </tr>\n",
              "    <tr>\n",
              "      <th>3</th>\n",
              "      <td>good</td>\n",
              "      <td>21394.0</td>\n",
              "      <td>14966.0</td>\n",
              "      <td>36360.0</td>\n",
              "      <td>-0.182984</td>\n",
              "    </tr>\n",
              "    <tr>\n",
              "      <th>4</th>\n",
              "      <td>edit</td>\n",
              "      <td>27668.0</td>\n",
              "      <td>5958.0</td>\n",
              "      <td>33626.0</td>\n",
              "      <td>-0.648298</td>\n",
              "    </tr>\n",
              "    <tr>\n",
              "      <th>5</th>\n",
              "      <td>likely</td>\n",
              "      <td>11868.0</td>\n",
              "      <td>17941.0</td>\n",
              "      <td>29809.0</td>\n",
              "      <td>0.194671</td>\n",
              "    </tr>\n",
              "    <tr>\n",
              "      <th>6</th>\n",
              "      <td>right</td>\n",
              "      <td>8847.0</td>\n",
              "      <td>20266.0</td>\n",
              "      <td>29113.0</td>\n",
              "      <td>0.381752</td>\n",
              "    </tr>\n",
              "    <tr>\n",
              "      <th>7</th>\n",
              "      <td>new</td>\n",
              "      <td>9841.0</td>\n",
              "      <td>13022.0</td>\n",
              "      <td>22863.0</td>\n",
              "      <td>0.130560</td>\n",
              "    </tr>\n",
              "    <tr>\n",
              "      <th>8</th>\n",
              "      <td>time</td>\n",
              "      <td>14329.0</td>\n",
              "      <td>7523.0</td>\n",
              "      <td>21852.0</td>\n",
              "      <td>-0.316641</td>\n",
              "    </tr>\n",
              "    <tr>\n",
              "      <th>9</th>\n",
              "      <td>things</td>\n",
              "      <td>13140.0</td>\n",
              "      <td>8173.0</td>\n",
              "      <td>21313.0</td>\n",
              "      <td>-0.238823</td>\n",
              "    </tr>\n",
              "    <tr>\n",
              "      <th>10</th>\n",
              "      <td>thing</td>\n",
              "      <td>12334.0</td>\n",
              "      <td>8539.0</td>\n",
              "      <td>20873.0</td>\n",
              "      <td>-0.187972</td>\n",
              "    </tr>\n",
              "    <tr>\n",
              "      <th>11</th>\n",
              "      <td>fucking</td>\n",
              "      <td>10982.0</td>\n",
              "      <td>7994.0</td>\n",
              "      <td>18976.0</td>\n",
              "      <td>-0.163803</td>\n",
              "    </tr>\n",
              "    <tr>\n",
              "      <th>12</th>\n",
              "      <td>years</td>\n",
              "      <td>11987.0</td>\n",
              "      <td>6829.0</td>\n",
              "      <td>18816.0</td>\n",
              "      <td>-0.279592</td>\n",
              "    </tr>\n",
              "    <tr>\n",
              "      <th>13</th>\n",
              "      <td>fuck</td>\n",
              "      <td>10596.0</td>\n",
              "      <td>8121.0</td>\n",
              "      <td>18717.0</td>\n",
              "      <td>-0.138764</td>\n",
              "    </tr>\n",
              "    <tr>\n",
              "      <th>14</th>\n",
              "      <td>obama</td>\n",
              "      <td>614.0</td>\n",
              "      <td>17171.0</td>\n",
              "      <td>17785.0</td>\n",
              "      <td>0.916420</td>\n",
              "    </tr>\n",
              "    <tr>\n",
              "      <th>15</th>\n",
              "      <td>actually</td>\n",
              "      <td>7972.0</td>\n",
              "      <td>9764.0</td>\n",
              "      <td>17736.0</td>\n",
              "      <td>0.092751</td>\n",
              "    </tr>\n",
              "    <tr>\n",
              "      <th>16</th>\n",
              "      <td>got</td>\n",
              "      <td>12912.0</td>\n",
              "      <td>3344.0</td>\n",
              "      <td>16256.0</td>\n",
              "      <td>-0.591679</td>\n",
              "    </tr>\n",
              "    <tr>\n",
              "      <th>17</th>\n",
              "      <td>year</td>\n",
              "      <td>11054.0</td>\n",
              "      <td>5073.0</td>\n",
              "      <td>16127.0</td>\n",
              "      <td>-0.375604</td>\n",
              "    </tr>\n",
              "    <tr>\n",
              "      <th>18</th>\n",
              "      <td>old</td>\n",
              "      <td>12264.0</td>\n",
              "      <td>3682.0</td>\n",
              "      <td>15946.0</td>\n",
              "      <td>-0.541667</td>\n",
              "    </tr>\n",
              "    <tr>\n",
              "      <th>19</th>\n",
              "      <td>republican</td>\n",
              "      <td>211.0</td>\n",
              "      <td>15553.0</td>\n",
              "      <td>15764.0</td>\n",
              "      <td>0.958379</td>\n",
              "    </tr>\n",
              "    <tr>\n",
              "      <th>20</th>\n",
              "      <td>government</td>\n",
              "      <td>2000.0</td>\n",
              "      <td>13218.0</td>\n",
              "      <td>15218.0</td>\n",
              "      <td>0.724079</td>\n",
              "    </tr>\n",
              "    <tr>\n",
              "      <th>21</th>\n",
              "      <td>republicans</td>\n",
              "      <td>148.0</td>\n",
              "      <td>14844.0</td>\n",
              "      <td>14992.0</td>\n",
              "      <td>0.965352</td>\n",
              "    </tr>\n",
              "    <tr>\n",
              "      <th>22</th>\n",
              "      <td>pretty</td>\n",
              "      <td>9878.0</td>\n",
              "      <td>4502.0</td>\n",
              "      <td>14380.0</td>\n",
              "      <td>-0.378565</td>\n",
              "    </tr>\n",
              "    <tr>\n",
              "      <th>23</th>\n",
              "      <td>american</td>\n",
              "      <td>3443.0</td>\n",
              "      <td>10251.0</td>\n",
              "      <td>13694.0</td>\n",
              "      <td>0.485884</td>\n",
              "    </tr>\n",
              "    <tr>\n",
              "      <th>24</th>\n",
              "      <td>money</td>\n",
              "      <td>4973.0</td>\n",
              "      <td>8713.0</td>\n",
              "      <td>13686.0</td>\n",
              "      <td>0.263689</td>\n",
              "    </tr>\n",
              "    <tr>\n",
              "      <th>25</th>\n",
              "      <td>times</td>\n",
              "      <td>9346.0</td>\n",
              "      <td>4100.0</td>\n",
              "      <td>13446.0</td>\n",
              "      <td>-0.394743</td>\n",
              "    </tr>\n",
              "    <tr>\n",
              "      <th>26</th>\n",
              "      <td>state</td>\n",
              "      <td>1554.0</td>\n",
              "      <td>11760.0</td>\n",
              "      <td>13314.0</td>\n",
              "      <td>0.753266</td>\n",
              "    </tr>\n",
              "    <tr>\n",
              "      <th>27</th>\n",
              "      <td>news</td>\n",
              "      <td>1935.0</td>\n",
              "      <td>11347.0</td>\n",
              "      <td>13282.0</td>\n",
              "      <td>0.695768</td>\n",
              "    </tr>\n",
              "    <tr>\n",
              "      <th>28</th>\n",
              "      <td>states</td>\n",
              "      <td>1417.0</td>\n",
              "      <td>11400.0</td>\n",
              "      <td>12817.0</td>\n",
              "      <td>0.765499</td>\n",
              "    </tr>\n",
              "    <tr>\n",
              "      <th>29</th>\n",
              "      <td>life</td>\n",
              "      <td>9805.0</td>\n",
              "      <td>2932.0</td>\n",
              "      <td>12737.0</td>\n",
              "      <td>-0.543074</td>\n",
              "    </tr>\n",
              "    <tr>\n",
              "      <th>30</th>\n",
              "      <td>man</td>\n",
              "      <td>8547.0</td>\n",
              "      <td>3744.0</td>\n",
              "      <td>12291.0</td>\n",
              "      <td>-0.395359</td>\n",
              "    </tr>\n",
              "    <tr>\n",
              "      <th>31</th>\n",
              "      <td>party</td>\n",
              "      <td>1264.0</td>\n",
              "      <td>10668.0</td>\n",
              "      <td>11932.0</td>\n",
              "      <td>0.774675</td>\n",
              "    </tr>\n",
              "    <tr>\n",
              "      <th>32</th>\n",
              "      <td>little</td>\n",
              "      <td>9470.0</td>\n",
              "      <td>1903.0</td>\n",
              "      <td>11373.0</td>\n",
              "      <td>-0.667866</td>\n",
              "    </tr>\n",
              "    <tr>\n",
              "      <th>33</th>\n",
              "      <td>shit</td>\n",
              "      <td>7082.0</td>\n",
              "      <td>4223.0</td>\n",
              "      <td>11305.0</td>\n",
              "      <td>-0.258520</td>\n",
              "    </tr>\n",
              "    <tr>\n",
              "      <th>34</th>\n",
              "      <td>said</td>\n",
              "      <td>5206.0</td>\n",
              "      <td>5767.0</td>\n",
              "      <td>10973.0</td>\n",
              "      <td>0.043214</td>\n",
              "    </tr>\n",
              "    <tr>\n",
              "      <th>35</th>\n",
              "      <td>political</td>\n",
              "      <td>957.0</td>\n",
              "      <td>9712.0</td>\n",
              "      <td>10669.0</td>\n",
              "      <td>0.806899</td>\n",
              "    </tr>\n",
              "    <tr>\n",
              "      <th>36</th>\n",
              "      <td>guy</td>\n",
              "      <td>8304.0</td>\n",
              "      <td>2297.0</td>\n",
              "      <td>10601.0</td>\n",
              "      <td>-0.569906</td>\n",
              "    </tr>\n",
              "    <tr>\n",
              "      <th>37</th>\n",
              "      <td>white</td>\n",
              "      <td>3179.0</td>\n",
              "      <td>7179.0</td>\n",
              "      <td>10358.0</td>\n",
              "      <td>0.375742</td>\n",
              "    </tr>\n",
              "    <tr>\n",
              "      <th>38</th>\n",
              "      <td>rights</td>\n",
              "      <td>897.0</td>\n",
              "      <td>9403.0</td>\n",
              "      <td>10300.0</td>\n",
              "      <td>0.812083</td>\n",
              "    </tr>\n",
              "    <tr>\n",
              "      <th>39</th>\n",
              "      <td>school</td>\n",
              "      <td>7640.0</td>\n",
              "      <td>2635.0</td>\n",
              "      <td>10275.0</td>\n",
              "      <td>-0.490965</td>\n",
              "    </tr>\n",
              "    <tr>\n",
              "      <th>40</th>\n",
              "      <td>politics</td>\n",
              "      <td>812.0</td>\n",
              "      <td>9385.0</td>\n",
              "      <td>10197.0</td>\n",
              "      <td>0.826883</td>\n",
              "    </tr>\n",
              "    <tr>\n",
              "      <th>41</th>\n",
              "      <td>look</td>\n",
              "      <td>6731.0</td>\n",
              "      <td>3343.0</td>\n",
              "      <td>10074.0</td>\n",
              "      <td>-0.341306</td>\n",
              "    </tr>\n",
              "    <tr>\n",
              "      <th>42</th>\n",
              "      <td>liked</td>\n",
              "      <td>7039.0</td>\n",
              "      <td>2714.0</td>\n",
              "      <td>9753.0</td>\n",
              "      <td>-0.447642</td>\n",
              "    </tr>\n",
              "    <tr>\n",
              "      <th>43</th>\n",
              "      <td>hillary</td>\n",
              "      <td>189.0</td>\n",
              "      <td>9292.0</td>\n",
              "      <td>9481.0</td>\n",
              "      <td>0.945378</td>\n",
              "    </tr>\n",
              "    <tr>\n",
              "      <th>44</th>\n",
              "      <td>getting</td>\n",
              "      <td>5713.0</td>\n",
              "      <td>3653.0</td>\n",
              "      <td>9366.0</td>\n",
              "      <td>-0.225815</td>\n",
              "    </tr>\n",
              "    <tr>\n",
              "      <th>45</th>\n",
              "      <td>clinton</td>\n",
              "      <td>164.0</td>\n",
              "      <td>9122.0</td>\n",
              "      <td>9286.0</td>\n",
              "      <td>0.949891</td>\n",
              "    </tr>\n",
              "    <tr>\n",
              "      <th>46</th>\n",
              "      <td>better</td>\n",
              "      <td>5018.0</td>\n",
              "      <td>4245.0</td>\n",
              "      <td>9263.0</td>\n",
              "      <td>-0.090349</td>\n",
              "    </tr>\n",
              "    <tr>\n",
              "      <th>47</th>\n",
              "      <td>likes</td>\n",
              "      <td>5438.0</td>\n",
              "      <td>3783.0</td>\n",
              "      <td>9221.0</td>\n",
              "      <td>-0.185657</td>\n",
              "    </tr>\n",
              "    <tr>\n",
              "      <th>48</th>\n",
              "      <td>bad</td>\n",
              "      <td>5171.0</td>\n",
              "      <td>3884.0</td>\n",
              "      <td>9055.0</td>\n",
              "      <td>-0.148588</td>\n",
              "    </tr>\n",
              "    <tr>\n",
              "      <th>49</th>\n",
              "      <td>bernie</td>\n",
              "      <td>248.0</td>\n",
              "      <td>8677.0</td>\n",
              "      <td>8925.0</td>\n",
              "      <td>0.929791</td>\n",
              "    </tr>\n",
              "  </tbody>\n",
              "</table>\n",
              "</div>"
            ],
            "text/plain": [
              "           word  non_pol_freq  pol_freq  total_freq  rel_freq\n",
              "0   people       47177.0       72710.0   119887.0    0.203846\n",
              "1   like         61796.0       49373.0   111169.0   -0.118434\n",
              "2   trump        976.0         47684.0   48660.0     0.945134\n",
              "3   good         21394.0       14966.0   36360.0    -0.182984\n",
              "4   edit         27668.0       5958.0    33626.0    -0.648298\n",
              "5   likely       11868.0       17941.0   29809.0     0.194671\n",
              "6   right        8847.0        20266.0   29113.0     0.381752\n",
              "7   new          9841.0        13022.0   22863.0     0.130560\n",
              "8   time         14329.0       7523.0    21852.0    -0.316641\n",
              "9   things       13140.0       8173.0    21313.0    -0.238823\n",
              "10  thing        12334.0       8539.0    20873.0    -0.187972\n",
              "11  fucking      10982.0       7994.0    18976.0    -0.163803\n",
              "12  years        11987.0       6829.0    18816.0    -0.279592\n",
              "13  fuck         10596.0       8121.0    18717.0    -0.138764\n",
              "14  obama        614.0         17171.0   17785.0     0.916420\n",
              "15  actually     7972.0        9764.0    17736.0     0.092751\n",
              "16  got          12912.0       3344.0    16256.0    -0.591679\n",
              "17  year         11054.0       5073.0    16127.0    -0.375604\n",
              "18  old          12264.0       3682.0    15946.0    -0.541667\n",
              "19  republican   211.0         15553.0   15764.0     0.958379\n",
              "20  government   2000.0        13218.0   15218.0     0.724079\n",
              "21  republicans  148.0         14844.0   14992.0     0.965352\n",
              "22  pretty       9878.0        4502.0    14380.0    -0.378565\n",
              "23  american     3443.0        10251.0   13694.0     0.485884\n",
              "24  money        4973.0        8713.0    13686.0     0.263689\n",
              "25  times        9346.0        4100.0    13446.0    -0.394743\n",
              "26  state        1554.0        11760.0   13314.0     0.753266\n",
              "27  news         1935.0        11347.0   13282.0     0.695768\n",
              "28  states       1417.0        11400.0   12817.0     0.765499\n",
              "29  life         9805.0        2932.0    12737.0    -0.543074\n",
              "30  man          8547.0        3744.0    12291.0    -0.395359\n",
              "31  party        1264.0        10668.0   11932.0     0.774675\n",
              "32  little       9470.0        1903.0    11373.0    -0.667866\n",
              "33  shit         7082.0        4223.0    11305.0    -0.258520\n",
              "34  said         5206.0        5767.0    10973.0     0.043214\n",
              "35  political    957.0         9712.0    10669.0     0.806899\n",
              "36  guy          8304.0        2297.0    10601.0    -0.569906\n",
              "37  white        3179.0        7179.0    10358.0     0.375742\n",
              "38  rights       897.0         9403.0    10300.0     0.812083\n",
              "39  school       7640.0        2635.0    10275.0    -0.490965\n",
              "40  politics     812.0         9385.0    10197.0     0.826883\n",
              "41  look         6731.0        3343.0    10074.0    -0.341306\n",
              "42  liked        7039.0        2714.0    9753.0     -0.447642\n",
              "43  hillary      189.0         9292.0    9481.0      0.945378\n",
              "44  getting      5713.0        3653.0    9366.0     -0.225815\n",
              "45  clinton      164.0         9122.0    9286.0      0.949891\n",
              "46  better       5018.0        4245.0    9263.0     -0.090349\n",
              "47  likes        5438.0        3783.0    9221.0     -0.185657\n",
              "48  bad          5171.0        3884.0    9055.0     -0.148588\n",
              "49  bernie       248.0         8677.0    8925.0      0.929791"
            ]
          },
          "metadata": {
            "tags": []
          },
          "execution_count": 8
        }
      ]
    },
    {
      "cell_type": "code",
      "metadata": {
        "id": "Kd0T1NgBqrvp"
      },
      "source": [
        "#word frequency dict\n",
        "wfd = dict(zip(df.word, df.total_freq))\n",
        "\n",
        "def get_most_common(x):  #get most frequent word from a phrase.\n",
        "  if len(x)<2:\n",
        "    return x\n",
        "  word_freq = 0\n",
        "  word_ret = \"\"\n",
        "  for word in x.split():\n",
        "    if (word in [\"null\",\"nan\"]):\n",
        "      continue\n",
        "    elif (wfd[word]>word_freq):\n",
        "      word_ret = word\n",
        "      word_freq = wfd[word]\n",
        "  return word_ret\n",
        "\n",
        "def split_words(lst):\n",
        "  ret_list = []\n",
        "  for i in lst:\n",
        "    ret_list.append(get_most_common(i))\n",
        "  return ret_list"
      ],
      "execution_count": 9,
      "outputs": []
    },
    {
      "cell_type": "code",
      "metadata": {
        "id": "Ym2KO6PrPncP"
      },
      "source": [
        "# Test and train dataset. Contains keywords extracted from paragraph using textrank.\n",
        "df_main = pd.read_csv(\"/content/drive/MyDrive/datasets/reddit/train_dataset.csv\")\n",
        "df_main[\"keywords\"] = df_main[\"keywords\"].apply(ast.literal_eval)\n",
        "df_main[\"text_rank_scores\"] = df_main[\"text_rank_scores\"].apply(ast.literal_eval)\n",
        "df_main[\"keywords\"] = df_main[\"keywords\"].apply(split_words) #Resolve compound words.\n",
        "df_main = df_main.sample(frac=1).reset_index(drop=True) #Shuffle"
      ],
      "execution_count": 10,
      "outputs": []
    },
    {
      "cell_type": "code",
      "metadata": {
        "id": "IbALuN8Xfunf"
      },
      "source": [
        "#test train splits for both categories\n",
        "split_pos = 0.2\n",
        "split_neg = 0.2\n",
        "\n",
        "#removing some subreddits that are hard to classify. \n",
        "df_main = df_main[~df_main[\"subreddit\"].isin((\"badeconomics\",\"askeconomics\", \"economics\",\"politicalcompassMemes\"))]\n",
        "\n",
        "df_pos = df_main[df_main[\"label\"]==1]\n",
        "df_neg = df_main[df_main[\"label\"]==0]\n",
        "\n",
        "df_pos_train,df_pos_test = train_test_split(df_pos, test_size=split_pos)\n",
        "df_neg_train,df_neg_test = train_test_split(df_neg, test_size=split_neg)\n",
        "\n",
        "df_train = pd.concat([df_pos_train, df_neg_train], ignore_index=True)\n",
        "df_test = pd.concat([df_pos_test, df_neg_test], ignore_index=True)"
      ],
      "execution_count": 12,
      "outputs": []
    },
    {
      "cell_type": "code",
      "metadata": {
        "id": "xYZt7mH-AUI7",
        "colab": {
          "base_uri": "https://localhost:8080/"
        },
        "outputId": "898f08ce-e39f-4644-a2c6-f8ec54b96e04"
      },
      "source": [
        "len_pos = len(df_pos_train)\n",
        "len_neg = len(df_neg_train)\n",
        "len_tot = len_pos+len_neg\n",
        "print(f\"pos: {len_pos/len_tot}, neg: {len_neg/len_tot}\")"
      ],
      "execution_count": 13,
      "outputs": [
        {
          "output_type": "stream",
          "text": [
            "pos: 0.527515998345946, neg: 0.472484001654054\n"
          ],
          "name": "stdout"
        }
      ]
    },
    {
      "cell_type": "code",
      "metadata": {
        "colab": {
          "base_uri": "https://localhost:8080/"
        },
        "id": "vZ8u5YWZo515",
        "outputId": "cef4ca2e-80de-4a6e-fca3-a9a2edd758c3"
      },
      "source": [
        "len_pos = len(df_pos_test)\n",
        "len_neg = len(df_neg_test)\n",
        "len_tot = len_pos+len_neg\n",
        "print(f\"pos: {len_pos/len_tot}, neg: {len_neg/len_tot}\")"
      ],
      "execution_count": 14,
      "outputs": [
        {
          "output_type": "stream",
          "text": [
            "pos: 0.5275114221271181, neg: 0.47248857787288184\n"
          ],
          "name": "stdout"
        }
      ]
    },
    {
      "cell_type": "code",
      "metadata": {
        "id": "04akOrhUb9Dp"
      },
      "source": [
        "rel_freq_dict = dict(zip(df[\"word\"], df[\"rel_freq\"]))\n",
        "\n",
        "def get_rel_freq(x,text_rank_scores):\n",
        "  try:\n",
        "    ret = [rel_freq_dict[x]]\n",
        "  except:\n",
        "    ret = [0.0] # not found\n",
        "  return ret\n",
        "\n",
        "def get_x(xs,text_rank_scores):\n",
        "  ret_val = []\n",
        "  \n",
        "  for i in range(len(xs)):\n",
        "    ret_val.extend(get_rel_freq(xs[i],text_rank_scores[i]))\n",
        "\n",
        "  ret_val = np.sort(np.array(ret_val))[::-1]\n",
        "  ret_val = np.pad(ret_val, (0, max(0,10-len(ret_val))), 'constant') # Padding to 10 items\n",
        "  return ret_val"
      ],
      "execution_count": 15,
      "outputs": []
    },
    {
      "cell_type": "code",
      "metadata": {
        "id": "CbKdHdpuhqLF"
      },
      "source": [
        "x_train = np.stack(df_train.apply(lambda row: get_x(row[\"keywords\"],row[\"text_rank_scores\"]), axis=1))\n",
        "y_train = np.array(df_train.label.astype(int))\n",
        "\n",
        "x_test = np.stack(df_test.apply(lambda row: get_x(row[\"keywords\"],row[\"text_rank_scores\"]), axis=1))\n",
        "y_test = np.array(df_test.label.astype(int))"
      ],
      "execution_count": 16,
      "outputs": []
    },
    {
      "cell_type": "code",
      "metadata": {
        "id": "6IjFuukwsF36"
      },
      "source": [
        "def plot_cm(cf_matrix):\n",
        "  group_names = [\"True Neg\",\"False Pos\",\"False Neg\",\"True Pos\"]\n",
        "  group_counts = [\"{0:0.0f}\".format(value) for value in cf_matrix.flatten()]\n",
        "  group_percentages = [\"{0:.2%}\".format(value) for value in cf_matrix.flatten()/np.sum(cf_matrix)]\n",
        "  labels = [f\"{v1}\\n{v2}\\n{v3}\" for v1, v2, v3 in zip(group_names,group_counts,group_percentages)]\n",
        "  labels = np.asarray(labels).reshape(2,2)\n",
        "  sns.heatmap(cf_matrix, annot=labels, fmt='', cmap='Blues')"
      ],
      "execution_count": 17,
      "outputs": []
    },
    {
      "cell_type": "markdown",
      "metadata": {
        "id": "Iw_JOnsCV2qV"
      },
      "source": [
        "Logistic Regression"
      ]
    },
    {
      "cell_type": "code",
      "metadata": {
        "id": "siAG1r7bBtO_",
        "colab": {
          "base_uri": "https://localhost:8080/",
          "height": 304
        },
        "outputId": "ec37ec00-04a7-437a-b63d-361e2bf6bcda"
      },
      "source": [
        "lr = LogisticRegression(random_state=0,max_iter=200)\n",
        "lr.fit(x_train, y_train)\n",
        "\n",
        "print(f\"Prediction Accuracy on train: {lr.score(x_train, y_train)}\")\n",
        "print(f\"Prediction Accuracy on test: {lr.score(x_test, y_test)}\")\n",
        "y_pred = lr.predict(x_test)\n",
        "cm = metrics.confusion_matrix(y_test, y_pred)\n",
        "plot_cm(cm)"
      ],
      "execution_count": 18,
      "outputs": [
        {
          "output_type": "stream",
          "text": [
            "Prediction Accuracy on train: 0.9460639586833499\n",
            "Prediction Accuracy on test: 0.9461106934243247\n"
          ],
          "name": "stdout"
        },
        {
          "output_type": "display_data",
          "data": {
            "image/png": "[encoded data removed]",
            "text/plain": [
              "<Figure size 432x288 with 2 Axes>"
            ]
          },
          "metadata": {
            "tags": [],
            "needs_background": "light"
          }
        }
      ]
    },
    {
      "cell_type": "code",
      "metadata": {
        "colab": {
          "base_uri": "https://localhost:8080/"
        },
        "id": "2Tzx5MwylQby",
        "outputId": "b3224f5e-b5f4-4bf0-c50d-9b4e000ea2b2"
      },
      "source": [
        "joblib.dump(lr, \"lr_train_50_pos.sav\")"
      ],
      "execution_count": null,
      "outputs": [
        {
          "output_type": "execute_result",
          "data": {
            "text/plain": [
              "['lr_train_20_pos.sav']"
            ]
          },
          "metadata": {
            "tags": []
          },
          "execution_count": 48
        }
      ]
    },
    {
      "cell_type": "code",
      "metadata": {
        "id": "a7ExXpbYawRX",
        "colab": {
          "base_uri": "https://localhost:8080/"
        },
        "outputId": "bb03426b-9fa8-4fd1-c206-770b2885f007"
      },
      "source": [
        "print(lr.coef_, lr.intercept_)"
      ],
      "execution_count": null,
      "outputs": [
        {
          "output_type": "stream",
          "text": [
            "[[3.93046247 1.81532622 0.99551    0.67375188 0.70904757 0.38134367\n",
            "  0.8121919  0.74829088 0.83665252 3.05491921]] [-0.98434933]\n"
          ],
          "name": "stdout"
        }
      ]
    },
    {
      "cell_type": "code",
      "metadata": {
        "id": "YOxtPnT5HO9b",
        "colab": {
          "base_uri": "https://localhost:8080/"
        },
        "outputId": "08d91a01-5492-4a5c-8f34-22f52b63cfd5"
      },
      "source": [
        "## False Negatives\n",
        "wrong = df_test[(y_pred==0) & (y_test == 1)].keywords\n",
        "for i in wrong.sample(n=5):\n",
        "  print(dict(zip(i, get_x(i,[i for i in range(10)]))))"
      ],
      "execution_count": 22,
      "outputs": [
        {
          "output_type": "stream",
          "text": [
            "{'market': 0.46212626953698743, 'tooth': 0.31692756124649946, 'comment': 0.2636887887071384, 'returns': -0.26388700012619437, 'money': -0.28760217054493953, 'mouth': -0.35902747375853283, 'teeth': -0.38229549521149897, 'nah': -0.6248686136743486, 'holy': -0.8082721475758661, 'place': -0.8549680428654116}\n",
            "{'children': 0.7850244406817373, 'eye': 0.25713321275745815, 'good': 0.03400378533055126, 'sexual': 0.027332370708451403, 'personally': -0.06404706400877369, 'color': -0.15771024508648157, 'advertiser': -0.18298351302205484, 'james': -0.19506388321597545, 'makes': -0.5492826708515008, 'cbs': -0.7541773601575601}\n",
            "{'feeling': 0.307560447052708, 'like': 0.2038461994640759, 'lets': 0.18811226771776446, 'extra': 0.14165284898339947, 'aren': 0.10482908966271154, 'things': -0.11843412263063702, 'starting': -0.23882263003306314, 'country': -0.46582155923019153, 'people': -0.5158665419419288, 'tough': -0.77760727995983}\n",
            "{'memes': 0.2876589421933289, 'syntax': 0.07420670811473218, 'like': 0.035624614628569695, 'online': 0.01006543993223441, 'ones': -0.11843412263063702, 'true': -0.27245499775162074, 'python': -0.32371731216922306, 'master': -0.3383509406539693, 'exception': -0.5354378945017231, 'cons': -0.7481783430847198}\n",
            "{'econ': 0.6920612412174867, 'increases': 0.4454995256594647, 'wages': 0.3579102024580534, 'minimum': 0.21472039824949118, 'economic': 0.2038461994640759, 'policy': 0.16573083513437892, 'people': -0.3804211120574742, 'teacher': -0.47963901784280827, 'infinite': -0.4916991018962422, 'perfectly': -0.7749028973358865}\n"
          ],
          "name": "stdout"
        }
      ]
    },
    {
      "cell_type": "code",
      "metadata": {
        "id": "mENNoGBnE35s",
        "colab": {
          "base_uri": "https://localhost:8080/"
        },
        "outputId": "76d5ff61-0794-4a93-fcea-93e8171136cb"
      },
      "source": [
        "## False Positives\n",
        "wrong = df_test[(y_pred==1) & (y_test == 0)].keywords\n",
        "for i in wrong.sample(n=5):\n",
        "  print(dict(zip(i, get_x(i,[i for i in range(10)]))))"
      ],
      "execution_count": 23,
      "outputs": [
        {
          "output_type": "stream",
          "text": [
            "{'votes': 0.9590726338178561, 'like': 0.9231914950601907, 'state': 0.9038829711074381, 'people': 0.7532656462166112, 'car': 0.5793275373085689, 'electoral': 0.2038461994640759, 'presidential': 0.07939712250650621, 'city': -0.11843412263063702, 'friends': -0.5929447971479421, 'institution': -0.8230820943392727}\n",
            "{'ruth': 0.8885523200362422, 'today': 0.45053832241245173, 'great': 0.29802680045315033, 'free': 0.24629481700239197, 'fooking': 0.16100683998454435, 'office': 0.08908606228638671, 'cashmere': -0.07841738162517164, 'presidents': -0.30821642904018975, 'salary': -0.7164361174231297, 'mob': -1.0}\n",
            "{'james': 0.8476347200126897, 'officer': 0.6057878956531102, 'ted': 0.37574201497735693, 'christmas': 0.21544485141690606, 'propaganda': 0.11638712126839068, 'white': -0.017451146871144463, 'literally': -0.11843412263063702, 'like': -0.19506388321597545, 'escobar': -0.5618746824912373, 'reads': -1.0}\n",
            "{'state': 0.7532656462166112, 'construction': 0.6622410417312856, 'truck': 0.4949877870270676, 'york': 0.30025191550135677, 'trade': 0.239957412367785, 'cranes': 0.0802850382532414, 'response': -0.1669729875774565, 'safety': -0.3958856414666677, 'authority': -0.46142218206816277, 'port': -1.0}\n",
            "{'probably': 0.8120833315623475, 'whites': 0.6281483285530676, 'mother': 0.6205126847582054, 'think': 0.12235702149101058, 'americans': 0.08358591850276165, 'rights': -0.25461282440874977, 'photo': -0.2795916093313069, 'south': -0.6187329182778318, 'plot': -0.6258368686330094, 'years': -0.7082932356599425}\n"
          ],
          "name": "stdout"
        }
      ]
    },
    {
      "cell_type": "markdown",
      "metadata": {
        "id": "xMj9thCi2Bvo"
      },
      "source": [
        "KNN"
      ]
    },
    {
      "cell_type": "code",
      "metadata": {
        "id": "Jsno1UUT2EYC"
      },
      "source": [
        "class FaissKNeighbors:\n",
        "    def __init__(self, k=5):\n",
        "        self.index = None\n",
        "        self.y = None\n",
        "        self.k = k\n",
        "\n",
        "    def fit(self, X, y):\n",
        "        self.index = faiss.IndexFlatL2(X.shape[1])\n",
        "        self.index.add(X.astype(np.float32))\n",
        "        self.y = y\n",
        "\n",
        "    def predict(self, X):\n",
        "        distances, indices = self.index.search(X.astype(np.float32), k=self.k)\n",
        "        votes = self.y[indices]\n",
        "        predictions = np.array([np.argmax(np.bincount(x)) for x in votes])\n",
        "        return predictions"
      ],
      "execution_count": 24,
      "outputs": []
    },
    {
      "cell_type": "code",
      "metadata": {
        "id": "R-aURq_6349u"
      },
      "source": [
        "fknn = FaissKNeighbors(k=5)\n",
        "fknn.fit(x_train,y_train)"
      ],
      "execution_count": 27,
      "outputs": []
    },
    {
      "cell_type": "code",
      "metadata": {
        "id": "57zmbJoQEYxN",
        "colab": {
          "base_uri": "https://localhost:8080/",
          "height": 284
        },
        "outputId": "93c12003-1dc4-4cfe-bc8a-69cbfffc082a"
      },
      "source": [
        "y_pred = fknn.predict(x_test)\n",
        "cm = metrics.confusion_matrix(y_test, y_pred)\n",
        "print(metrics.accuracy_score(y_test,y_pred))\n",
        "plot_cm(cm)"
      ],
      "execution_count": 28,
      "outputs": [
        {
          "output_type": "stream",
          "text": [
            "0.9429529813197617\n"
          ],
          "name": "stdout"
        },
        {
          "output_type": "display_data",
          "data": {
            "image/png": "[encoded data removed]",
            "text/plain": [
              "<Figure size 432x288 with 2 Axes>"
            ]
          },
          "metadata": {
            "tags": []
          }
        }
      ]
    },
    {
      "cell_type": "markdown",
      "metadata": {
        "id": "cEly0OdTnlNg"
      },
      "source": [
        "XGBoost"
      ]
    },
    {
      "cell_type": "code",
      "metadata": {
        "id": "h5B_IwKsnoWl",
        "colab": {
          "base_uri": "https://localhost:8080/"
        },
        "outputId": "1a642e9a-578f-42e2-f9b0-b880dcd4aff5"
      },
      "source": [
        "xgb = XGBClassifier(n_estimators=100)\n",
        "training_start = time.perf_counter()\n",
        "xgb.fit(x_train, y_train)\n",
        "training_end = time.perf_counter()\n",
        "prediction_start = time.perf_counter()\n",
        "y_pred = xgb.predict(x_test)\n",
        "prediction_end = time.perf_counter()\n",
        "acc_xgb = (y_pred == y_test).sum().astype(float) / len(y_pred)*100\n",
        "xgb_train_time = training_end-training_start\n",
        "xgb_prediction_time = prediction_end-prediction_start\n",
        "print(f\"XGBoost's prediction accuracy is: {acc_xgb}\")\n",
        "print(f\"Time consumed for training: {xgb_train_time}\")\n",
        "print(f\"Time consumed for prediction: {xgb_prediction_time}\")"
      ],
      "execution_count": 29,
      "outputs": [
        {
          "output_type": "stream",
          "text": [
            "/usr/local/lib/python3.7/dist-packages/xgboost/sklearn.py:1146: UserWarning: The use of label encoder in XGBClassifier is deprecated and will be removed in a future release. To remove this warning, do the following: 1) Pass option use_label_encoder=False when constructing XGBClassifier object; and 2) Encode your labels (y) as integers starting with 0, i.e. 0, 1, 2, ..., [num_class - 1].\n",
            "  warnings.warn(label_encoder_deprecation_msg, UserWarning)\n"
          ],
          "name": "stderr"
        },
        {
          "output_type": "stream",
          "text": [
            "[07:32:32] WARNING: ../src/learner.cc:1095: Starting in XGBoost 1.3.0, the default evaluation metric used with the objective 'binary:logistic' was changed from 'error' to 'logloss'. Explicitly set eval_metric if you'd like to restore the old behavior.\n",
            "XGBoost's prediction accuracy is: 95.06679775605807\n",
            "Time consumed for training: 28.096654265000097\n",
            "Time consumed for prediction: 0.16308285900004194\n"
          ],
          "name": "stdout"
        }
      ]
    },
    {
      "cell_type": "code",
      "metadata": {
        "id": "KehYn7_Ugprk"
      },
      "source": [
        "cm = metrics.confusion_matrix(y_test, y_pred)\n",
        "print(metrics.accuracy_score(y_test,y_pred))\n",
        "plot_cm(cm)"
      ],
      "execution_count": null,
      "outputs": []
    },
    {
      "cell_type": "markdown",
      "metadata": {
        "id": "pZ9rYkXxVVdO"
      },
      "source": [
        "Random Forest"
      ]
    },
    {
      "cell_type": "code",
      "metadata": {
        "id": "6NBWPbR-VX46",
        "colab": {
          "base_uri": "https://localhost:8080/"
        },
        "outputId": "d5f9049e-a8a7-4883-f8e2-45306c18264a"
      },
      "source": [
        "clf=RandomForestClassifier(n_estimators=50,max_depth=40)\n",
        "clf.fit(x_train,y_train)\n",
        "y_pred=clf.predict(x_test)\n",
        "print(\"Accuracy:\",metrics.accuracy_score(y_test, y_pred))"
      ],
      "execution_count": 31,
      "outputs": [
        {
          "output_type": "stream",
          "text": [
            "Accuracy: 0.9493840726389451\n"
          ],
          "name": "stdout"
        }
      ]
    },
    {
      "cell_type": "code",
      "metadata": {
        "id": "U704r4GXg5B3"
      },
      "source": [
        "cm = metrics.confusion_matrix(y_test, y_pred)\n",
        "print(metrics.accuracy_score(y_test,y_pred))\n",
        "plot_cm(cm)"
      ],
      "execution_count": null,
      "outputs": []
    },
    {
      "cell_type": "markdown",
      "metadata": {
        "id": "d73uLs-MWUGf"
      },
      "source": [
        "Simple Neural Network"
      ]
    },
    {
      "cell_type": "code",
      "metadata": {
        "id": "R5EXX-V_WXUS"
      },
      "source": [
        "model = Sequential()\n",
        "model.add(Dense(30))\n",
        "model.add(Dropout(0.2))\n",
        "model.add(Dense(10))\n",
        "model.add(Dense(1, activation='sigmoid'))\n",
        "model.compile(optimizer='adam', loss='binary_crossentropy',metrics=['accuracy'])"
      ],
      "execution_count": null,
      "outputs": []
    },
    {
      "cell_type": "code",
      "metadata": {
        "id": "ajJDqB-kYzde"
      },
      "source": [
        "model.fit(x_train, y_train, epochs=3,batch_size=10, verbose=1)\n",
        "_, accuracy = model.evaluate(x_test, y_test)\n",
        "print('Accuracy: %.2f' % (accuracy*100))"
      ],
      "execution_count": null,
      "outputs": []
    },
    {
      "cell_type": "markdown",
      "metadata": {
        "id": "nFzlKQ9LHYSp"
      },
      "source": [
        "Using Embeddings"
      ]
    },
    {
      "cell_type": "code",
      "metadata": {
        "id": "fS0bg65oTVmz"
      },
      "source": [
        "embeddings= {}\n",
        "with open(\"/content/glove/glove.840B.300d.txt\", 'r') as f:\n",
        "    for line in f:\n",
        "        values = line.split(' ')\n",
        "        word = values[0]\n",
        "        vector = np.asarray(values[1:], \"float32\")\n",
        "        embeddings[word]=vector"
      ],
      "execution_count": null,
      "outputs": []
    },
    {
      "cell_type": "code",
      "metadata": {
        "id": "vZqW0ulWgVtU"
      },
      "source": [
        "def get_embedding(x):\n",
        "  try:\n",
        "    return embeddings[x]\n",
        "  except:\n",
        "    return np.zeros(shape=(300))"
      ],
      "execution_count": null,
      "outputs": []
    },
    {
      "cell_type": "code",
      "metadata": {
        "id": "rK-vGYdKOFjZ"
      },
      "source": [
        "word_to_ind = {}\n",
        "ind_to_word = {}\n",
        "embeddings_ds = []\n",
        "\n",
        "for ind,word in enumerate(list(df[\"word\"])):\n",
        "  word_to_ind[word]=ind\n",
        "  ind_to_word[ind]=word\n",
        "  embeddings_ds.append(get_embedding(word))\n",
        "embeddings_ds = np.array(embeddings_ds,dtype=\"float32\")"
      ],
      "execution_count": null,
      "outputs": []
    },
    {
      "cell_type": "code",
      "metadata": {
        "id": "WxwbjIU6Qx3f"
      },
      "source": [
        "embeddings_ds[:10]"
      ],
      "execution_count": null,
      "outputs": []
    },
    {
      "cell_type": "code",
      "metadata": {
        "id": "yr5hymHI_is2"
      },
      "source": [
        "index = faiss.IndexFlatL2(300)  \n",
        "index.add(embeddings_ds)\n",
        "print(index.ntotal)"
      ],
      "execution_count": null,
      "outputs": []
    },
    {
      "cell_type": "code",
      "metadata": {
        "id": "iVJF9Gid_lDd"
      },
      "source": [
        "get_nearest(x):\n",
        "  D, I = index.search(np.array([get_embedding(x), 1) # sanity check\n",
        "  return ind_to_word[I[0][0]]"
      ],
      "execution_count": null,
      "outputs": []
    }
  ]
}